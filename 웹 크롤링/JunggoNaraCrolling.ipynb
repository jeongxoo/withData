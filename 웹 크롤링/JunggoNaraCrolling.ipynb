{
 "cells": [
  {
   "cell_type": "code",
   "execution_count": 1,
   "metadata": {},
   "outputs": [],
   "source": [
    "import os\n",
    "import urllib.request\n",
    "import pandas as pd\n",
    "import csv\n",
    "import re\n",
    "import time\n",
    "import pyperclip\n",
    "from selenium import webdriver\n",
    "from selenium.webdriver.common.by import By\n",
    "from selenium.webdriver.support.ui import WebDriverWait\n",
    "from selenium.webdriver.common.keys import Keys\n",
    "from selenium.webdriver.support import expected_conditions as EC"
   ]
  },
  {
   "cell_type": "code",
   "execution_count": 2,
   "metadata": {},
   "outputs": [],
   "source": [
    "# 크롬 시작 && 네이버 오픈\n",
    "def openNaver(driver):\n",
    "    driver.get(\"https://www.naver.com/\")"
   ]
  },
  {
   "cell_type": "code",
   "execution_count": 3,
   "metadata": {},
   "outputs": [],
   "source": [
    "# 로그인 버튼 클릭\n",
    "def clickLoginBt(driver):\n",
    "    naver_login = '''//*[@id=\"account\"]/a'''\n",
    "    driver.find_element_by_xpath(naver_login).click()"
   ]
  },
  {
   "cell_type": "code",
   "execution_count": 4,
   "metadata": {},
   "outputs": [],
   "source": [
    "# 네이버 로그인\n",
    "def loginNaver(driver):\n",
    "    user_id = 'wjdtnwjdtn55'\n",
    "    user_password = 'zmfhffldgkwk%6'\n",
    "\n",
    "    # time.sleep(1)\n",
    "\n",
    "    # 유저 아이디 비번 복붙으로 넣어주기\n",
    "    tag_id = driver.find_element_by_name('id') \n",
    "    tag_pw = driver.find_element_by_name('pw')\n",
    "\n",
    "\n",
    "    # 아이디 입력\n",
    "    tag_id.click()\n",
    "    pyperclip.copy(user_id)\n",
    "#     print(user_id)\n",
    "    # 맥은 커맨드 윈도우는 컨트롤\n",
    "    tag_id.send_keys(Keys.COMMAND, \"v\")\n",
    "\n",
    "\n",
    "    # 비번 입력\n",
    "    tag_pw.click()\n",
    "    pyperclip.copy(user_password)\n",
    "#     print(user_password)\n",
    "    # 맥은 커맨드 윈도우는 컨트롤\n",
    "    tag_pw.send_keys(Keys.COMMAND, \"v\")\n",
    "\n",
    "\n",
    "    # 로그인 버튼 클릭 (아이디 비번 입력 후에)\n",
    "    login_btn = driver.find_element_by_id('log.login') \n",
    "    login_btn.click()\n",
    "\n",
    "    # 로그인 실패시 처리\n",
    "    try:\n",
    "        login_error = driver.find_element_by_css_selector('#err_common > div > p') \n",
    "        print('로그인 실패 > ', login_error.text) \n",
    "    except: \n",
    "        print('로그인 성공')"
   ]
  },
  {
   "cell_type": "code",
   "execution_count": 5,
   "metadata": {},
   "outputs": [],
   "source": [
    "def gotoStartPositiopn(driver, url):\n",
    "    # 중고나라 메인 페이지로 이동\n",
    "    # notice_list_url_start = \"https://cafe.naver.com/joonggonara\"\n",
    "    notice_list_url_start = url\n",
    "#     notice_list_url_start = \"https://cafe.naver.com/joonggonara/855706233\"\n",
    "    driver.get(notice_list_url_start)\n",
    "    \n",
    "    # 중고나라 불량 거래 게시판으로 이동\n",
    "    # bad_trade_docs_list = '''//*[@id=\"menuLink57\"]'''\n",
    "    # driver.find_element_by_xpath(bad_trade_docs_list).click()\n",
    "    \n",
    "    # frame switch\n",
    "    driver.switch_to.frame(\"cafe_main\")\n",
    "    \n",
    "    # 가장 최근 게시글 클릭 (시작 지점)\n",
    "    # top_of_the_docs = '''//*[@id=\"main-area\"]/div[4]/table/tbody/tr[1]/td[1]/div[2]/div/a'''\n",
    "    # driver.find_element_by_xpath(top_of_the_docs).click()"
   ]
  },
  {
   "cell_type": "markdown",
   "metadata": {},
   "source": [
    "## 목록을 타고 내려가면서 글을 바꿔줌"
   ]
  },
  {
   "cell_type": "code",
   "execution_count": 6,
   "metadata": {},
   "outputs": [],
   "source": [
    "def travel(nums, driver):\n",
    "    next_button_xpath_first = '''//*[@id=\"app\"]/div/div/div[5]/div[1]/div/div[2]/div/ul/li[2]/div[1]/a'''\n",
    "    next_button_xpath_second = '''//*[@id=\"app\"]/div/div/div[5]/div[1]/div/div[2]/div/ul/li[3]/div[1]/a'''\n",
    "    next_button_xpath_else = '''//*[@id=\"app\"]/div/div/div[5]/div[1]/div/div[2]/div/ul/li[4]/div[1]/a'''\n",
    "\n",
    "    \n",
    "    # if nums == 0:\n",
    "    #     url = next_button_xpath_first\n",
    "    # elif nums == 1:\n",
    "    #     url = next_button_xpath_second\n",
    "    # else:\n",
    "    #     url = next_button_xpath_else\n",
    "\n",
    "    url = next_button_xpath_else\n",
    "    \n",
    "    try:\n",
    "        driver.find_element_by_xpath(url).click()\n",
    "        \n",
    "    except:\n",
    "        print(\"ERROR :: 다음 게시글로 이동할 수 없습니다.\")"
   ]
  },
  {
   "cell_type": "code",
   "execution_count": 7,
   "metadata": {},
   "outputs": [],
   "source": [
    "def getAll(driver):\n",
    "    title = driver.find_element_by_class_name(\"title_text\").text\n",
    "    writer = driver.find_element_by_class_name(\"nickname\").text\n",
    "    date = driver.find_element_by_class_name(\"date\").text\n",
    "    view_count = driver.find_element_by_class_name(\"count\").text\n",
    "    nums_reply = driver.find_element_by_class_name(\"num\").text\n",
    "    \n",
    "    try:\n",
    "        contents = driver.find_element_by_class_name(\"se-module-text\").text\n",
    "    except:\n",
    "        contents = \"해당 글에는 텍스트가 존재하지 않습니다.\"\n",
    "\n",
    "    list_all = [title, writer, date, view_count, nums_reply, contents]\n",
    "    return list_all"
   ]
  },
  {
   "cell_type": "code",
   "execution_count": 8,
   "metadata": {},
   "outputs": [],
   "source": [
    "def goToCsv(path, docs, colum):\n",
    "    junggo = pd.DataFrame(docs)\n",
    "    try:\n",
    "        junggo.columns = colum\n",
    "    except:\n",
    "        print(\"Warning :: Check Your CSV\")\n",
    "        return\n",
    "    \n",
    "    if not os.path.exists(path):\n",
    "        junggo.to_csv(path, index = False, mode = \"w\", encoding = \"utf-8-sig\")\n",
    "    else:\n",
    "        junggo.to_csv(path, index = False, mode = \"a\", encoding = \"utf-8-sig\", header = False)    "
   ]
  },
  {
   "cell_type": "code",
   "execution_count": 9,
   "metadata": {},
   "outputs": [],
   "source": [
    "def getDriver():\n",
    "    options = webdriver.ChromeOptions()\n",
    "    options.add_argument('headless')\n",
    "    options.add_argument('window-size=1920x1080')\n",
    "    options.add_argument(\"user-agent=Mozilla/5.0 (Macintosh; Intel Mac OS X 10_12_6) AppleWebKit/537.36 (KHTML, like Gecko) Chrome/61.0.3163.100 Safari/537.36\")\n",
    "\n",
    "    driver = webdriver.Chrome(options=options)\n",
    "    driver.implicitly_wait(3)\n",
    "    return driver"
   ]
  },
  {
   "cell_type": "code",
   "execution_count": 12,
   "metadata": {},
   "outputs": [],
   "source": [
    "def whatDoIDo(driver, path, colum, cnt, restart, length):\n",
    "    doc = []\n",
    "    if cnt == length:\n",
    "        restart = True\n",
    "    \n",
    "    for i in range(1, 601):\n",
    "        cnt += 1\n",
    "        doc.clear()\n",
    "        doc.append(getAll(driver))\n",
    "        goToCsv(path = path, docs = doc, colum = colum)\n",
    "\n",
    "        if i % 100 == 0:\n",
    "            print(i)\n",
    "        else:\n",
    "            print(\"*\", end = \"\")\n",
    "\n",
    "        travel(i, driver)\n",
    "    \n",
    "    driver.find_element_by_xpath('''//*[@id=\"app\"]/div/div/div[2]/div[1]/div[3]/a[2]''').click()\n",
    "    url = pyperclip.paste()\n",
    "#     send_keys(Keys.COMMAND, \"v\")\n",
    "    print(\"Restart\")\n",
    "    driver.quit()\n",
    "    return url"
   ]
  },
  {
   "cell_type": "code",
   "execution_count": 11,
   "metadata": {},
   "outputs": [],
   "source": [
    "def main(path, colum, count):\n",
    "    restart = False\n",
    "    cnt = 0\n",
    "    url = \"https://cafe.naver.com/joonggonara/849324912\"\n",
    "    \n",
    "    while restart != True:\n",
    "        driver = getDriver()\n",
    "\n",
    "        # 네이버 이동\n",
    "        openNaver(driver)\n",
    "\n",
    "        # 로그인 실행\n",
    "        clickLoginBt(driver)\n",
    "        loginNaver(driver)\n",
    "\n",
    "        # 시작 지점으로 이동\n",
    "        gotoStartPositiopn(driver, url)\n",
    "\n",
    "        # 크롤링\n",
    "        url = whatDoIDo(driver, path, colum, cnt, restart, count)\n",
    "\n",
    "    "
   ]
  },
  {
   "cell_type": "code",
   "execution_count": null,
   "metadata": {},
   "outputs": [],
   "source": [
    "path = \"junggonara_bad_trade_board.csv\"\n",
    "# colum = [\"TITLE\", \"WRITER\", \"DATE\", \"VIEW\", \"REPLY\", \"CONTENTS\", \"IMAGES\"]\n",
    "colum = [\"TITLE\", \"WRITER\", \"DATE\", \"VIEW\", \"REPLY\", \"CONTENTS\"]\n",
    "\n",
    "main(path, colum, 30000)"
   ]
  },
  {
   "cell_type": "code",
   "execution_count": null,
   "metadata": {},
   "outputs": [],
   "source": []
  }
 ],
 "metadata": {
  "kernelspec": {
   "display_name": "Python 3 (ipykernel)",
   "language": "python",
   "name": "python3"
  },
  "language_info": {
   "codemirror_mode": {
    "name": "ipython",
    "version": 3
   },
   "file_extension": ".py",
   "mimetype": "text/x-python",
   "name": "python",
   "nbconvert_exporter": "python",
   "pygments_lexer": "ipython3",
   "version": "3.9.7"
  }
 },
 "nbformat": 4,
 "nbformat_minor": 4
}
