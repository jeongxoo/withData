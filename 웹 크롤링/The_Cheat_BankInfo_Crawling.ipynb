{
 "cells": [
  {
   "cell_type": "code",
   "execution_count": 1,
   "metadata": {},
   "outputs": [],
   "source": [
    "import os\n",
    "import urllib.request\n",
    "import pandas as pd\n",
    "import csv\n",
    "import re\n",
    "import time\n",
    "import pyperclip\n",
    "from selenium import webdriver\n",
    "from selenium.webdriver.common.by import By\n",
    "from selenium.webdriver.support.ui import WebDriverWait\n",
    "from selenium.webdriver.common.keys import Keys\n",
    "from selenium.webdriver.support import expected_conditions as EC\n",
    "from selenium.webdriver.common.alert import Alert\n",
    "from functools import wraps\n",
    "import errno\n",
    "import signal"
   ]
  },
  {
   "cell_type": "code",
   "execution_count": 41,
   "metadata": {},
   "outputs": [],
   "source": [
    "url_form = \"https://thecheat.co.kr/rb/?m=bbs&bid=cheat&uid=\"\n",
    "airpod_id = [7988249, 7988221, 7987307, 7987171, 7987130, 7986770, 7986720, 7986710, 7986435, 7986406, 7986029, 7985950, 7985924, 7985559, 7984957, 7984944, 7984591, 7984057, 7983736, 7983616, 7983533, 7983162, 7982385, 7982360, 7982301, 7980268, 7980159, 7979849, 7979511, 7978577, 7978551, 7977959, 7977636, 7977177, 7977154, 7974328, 7973868, 7972685, 7972463, 7972400, 7972319, 7972040, 7971743, 7969128, 7969126, 7969019, 7968788, 7968344, 7968325, 7966791, 7965820, 7965656, 7965487, 7964408, 7963656, 7961853, 7961802, 7961783, 7961546, 7961186, 7960476, 7960453, 7959734, 7959392, 7958874, 7957428, 7957076, 7957036, 7956947, 7956937, 7956754, 7956705, 7955987, 7955970, 7955588, 7955577, 7955260, 7955213, 7955134, 7954596, 7954318, 7954166, 7953874, 7953783, 7953005, 7952742, 7951863, 7951030, 7950269, 7949637, 7948836, 7948726, 7948450, 7948442, 7947784, 7947724, 7947004, 7945847, 7945373, 7944293, 7944016, 7943175, 7942898, 7942029, 7941844, 7941812, 7941124, 7940948, 7940606, 7940586, 7940255, 7940070, 7939884, 7939656, 7939373, 7939289, 7939061, 7938709, 7938618, 7937700, 7937693, 7937659, 7937634, 7937377, 7937375, 7937370, 7937230, 7937226, 7937130, 7937102, 7937089, 7937071, 7936784, 7936622, 7936602, 7936287, 7936038, 7936007, 7935889, 7935685, 7935524, 7934990, 7933928, 7932393, 7932365, 7932349, 7931162, 7927200, 7926734, 7926440, 7926224, 7925874, 7925837, 7925796, 7925790, 7925761, 7925732, 7925714, 7925398, 7925335, 7925333, 7925188, 7925136, 7922104, 7920762, 7917544, 7913533, 7910883, 7907320, 7907303, 7906925, 7906906, 7906753, 7906582, 7903360, 7903259, 7903205, 7902595, 7902444, 7902232, 7900134, 7897886, 7891559, 7891506, 7891504, 7883307, 7882328, 7878899, 7875711, 7874146, 7873036, 7866493, 7865402, 7865287, 7865257, 7864641, 7863411, 7861583, 7857002, 7851969, 7848674, 7848600, 7848208, 7844082, 7843631, 7842939, 7839082, 7838734, 7838341, 7833737, 7832383, 7831656, 7831352, 7831205, 7829890, 7826820, 7826819, 7826777, 7826677, 7826333, 7825171, 7824410, 7823946, 7823574, 7823562, 7823555, 7823377, 7822444, 7822378, 7822344, 7821698, 7821425, 7820937, 7820726, 7820624, 7820349, 7820257, 7819692, 7819494, 7819429, 7819014, 7818874, 7818859, 7818789, 7818584, 7818247, 7817479, 7817103, 7816428, 7816267, 7816127, 7815738, 7815264, 7815123, 7815038, 7814690, 7814353, 7814322, 7813398, 7813340, 7811788, 7810998, 7810912, 7810874, 7810581, 7810503, 7810501, 7810028, 7809265, 7809193, 7808589, 7807704, 7807448, 7807358, 7806964, 7805871, 7805681, 7805293, 7804774, 7804369, 7803685, 7803451, 7803367, 7801530, 7801493, 7800873, 7800756, 7800739, 7800413, 7800251, 7800104, 7799052, 7799050, 7798671, 7798337, 7798289, 7798031, 7796371, 7796306, 7796268, 7796260, 7796046, 7793927, 7793248, 7792583, 7791866, 7791813, 7791736, 7791497, 7791470, 7791444, 7790872, 7790866, 7790741, 7790736, 7790531, 7790254, 7790195, 7790085, 7789869, 7788427, 7787480, 7786196, 7786082, 7786037, 7782879, 7782391, 7781927, 7781427, 7781407, 7780914, 7777064, 7776626, 7776483, 7774401, 7770987, 7770289, 7769922, 7769741, 7767458, 7767117, 7767032, 7766655, 7766381, 7766115, 7764775, 7764578, 7764507, 7764316, 7764275, 7763989, 7763614, 7763205, 7763143, 7762987, 7762333, 7761281, 7760987, 7760668, 7758903, 7758718, 7756898, 7755322, 7752043, 7752037, 7751943, 7751555, 7751046, 7745632, 7745564, 7745439, 7743908, 7743894, 7743754, 7742947, 7742603, 7742356, 7742171, 7742141, 7741885, 7741840, 7741777, 7741426, 7740611, 7739411, 7739376, 7739135, 7739009, 7738697, 7738037, 7737943, 7737868, 7737556, 7737549, 7736940, 7736678, 7736665, 7736586, 7736375, 7735912, 7735366, 7735345, 7735336, 7735275, 7734919, 7734162, 7733811, 7733805, 7733417, 7733080, 7732905, 7732667, 7732609, 7732580, 7732335, 7732021, 7731984, 7731465, 7731443, 7731218, 7730284, 7730143, 7729680, 7729437, 7728908, 7728858, 7728676, 7728592, 7728250, 7728164, 7727840, 7727819, 7727622, 7727564, 7727263, 7727249, 7727180, 7727118, 7726833, 7726569, 7725357, 7725141, 7724578, 7724116, 7724105, 7724038, 7723785, 7723622, 7721787, 7721538, 7720979, 7720272, 7719660, 7719640, 7719563, 7718378, 7718096, 7717617, 7717481, 7717076, 7716844, 7716269, 7715588, 7713419, 7712835, 7712517, 7711882, 7711345, 7711329, 7710940, 7710435, 7710255, 7710064, 7709877, 7709034, 7709021, 7708929, 7708395, 7708253, 7707766, 7707268, 7706836, 7706672, 7706452, 7706057, 7705876, 7705754, 7705390, 7705286, 7705150, 7705117, 7705095, 7704832, 7704716, 7704180, 7703537, 7702439, 7701355, 7699947, 7699321, 7699295, 7699140, 7698752, 7698750, 7698103, 7697526, 7697266, 7697171, 7697042, 7696502, 7696469, 7695757, 7695743, 7695592, 7695292, 7695268, 7694466, 7694165, 7694162, 7693531, 7692186, 7692091, 7691413, 7690666, 7690459, 7688764, 7688425, 7688363, 7687463, 7687417, 7687057, 7686738, 7686733, 7686301, 7685447, 7684170, 7683561, 7683187, 7683155, 7682749, 7682720, 7682498, 7682033, 7681969, 7681629, 7681200, 7680955, 7680202, 7678824, 7678621, 7678264, 7678251, 7678028, 7677953, 7677769, 7677742, 7677698, 7677690, 7677638, 7677474, 7677471, 7677423, 7676996, 7676846, 7676127, 7675422, 7675338, 7675266, 7675002, 7674582, 7674528, 7674209, 7673799, 7673098, 7672419, 7672321, 7672271, 7671582, 7671581, 7671347, 7671340, 7671228, 7670570, 7670426, 7670124, 7669581, 7669577, 7669188, 7668144, 7667739, 7667464, 7667417, 7667411, 7667390, 7667339, 7667133, 7667008, 7666508, 7663991, 7663980, 7663202, 7663121, 7663083, 7662642, 7662144, 7660701, 7657331, 7656705, 7656566, 7656313, 7655030, 7651339, 7651142, 7650755, 7650667, 7650538, 7645993, 7645845, 7643332, 7641192, 7636888, 7636779, 7636774, 7636661, 7636188, 7635771, 7635734, 7635725, 7635277, 7635081, 7634736, 7632190, 7631137, 7630704, 7630099, 7629806, 7629747, 7629457, 7626472]\n",
    "complete_url = [url_form + str(id) for id in airpod_id]"
   ]
  },
  {
   "cell_type": "code",
   "execution_count": 42,
   "metadata": {},
   "outputs": [],
   "source": [
    "class TimeoutError(Exception):\n",
    "    pass\n",
    "\n",
    "def timeout(seconds=10, error_message=os.strerror(errno.ETIME)):\n",
    "    def decorator(func):\n",
    "        def _handle_timeout(signum, frame):\n",
    "            raise TimeoutError(error_message)\n",
    "\n",
    "        def wrapper(*args, **kwargs):\n",
    "            signal.signal(signal.SIGALRM, _handle_timeout)\n",
    "            signal.setitimer(signal.ITIMER_REAL,seconds) #used timer instead of alarm\n",
    "            try:\n",
    "                result = func(*args, **kwargs)\n",
    "            finally:\n",
    "                signal.alarm(0)\n",
    "            return result\n",
    "        return wraps(func)(wrapper)\n",
    "    return decorator"
   ]
  },
  {
   "cell_type": "code",
   "execution_count": 43,
   "metadata": {},
   "outputs": [],
   "source": [
    "# 크롬 시작 && 더치트 로그인 오픈\n",
    "def openTheCheatLogin(driver):\n",
    "    driver.get(\"https://thecheat.co.kr/rb/?mod=ssl_login\")"
   ]
  },
  {
   "cell_type": "code",
   "execution_count": 44,
   "metadata": {},
   "outputs": [],
   "source": [
    "# 더치트 로그인\n",
    "def loginTheCheat(driver):\n",
    "    user_id = '01075857470'\n",
    "    user_password = 'djawldPdnjs%6'\n",
    "\n",
    "    time.sleep(1)\n",
    "\n",
    "    # 유저 아이디 비번 복붙으로 넣어주기\n",
    "    tag_id = driver.find_element_by_xpath('''//*[@id=\"id\"]''') \n",
    "    tag_pw = driver.find_element_by_xpath('''//*[@id=\"password\"]''')\n",
    "\n",
    "\n",
    "    # 아이디 입력\n",
    "    tag_id.click()\n",
    "    pyperclip.copy(user_id)\n",
    "#     print(user_id)\n",
    "    # 맥은 커맨드 윈도우는 컨트롤\n",
    "    tag_id.send_keys(Keys.COMMAND, \"v\")\n",
    "\n",
    "\n",
    "    # 비번 입력\n",
    "    tag_pw.click()\n",
    "    pyperclip.copy(user_password)\n",
    "#     print(user_password)\n",
    "    # 맥은 커맨드 윈도우는 컨트롤\n",
    "    tag_pw.send_keys(Keys.COMMAND, \"v\")\n",
    "\n",
    "\n",
    "    # 로그인 버튼 클릭 (아이디 비번 입력 후에)\n",
    "    login_btn = driver.find_element_by_xpath('''//*[@id=\"login_home\"]/div/div[1]/div[7]/div''') \n",
    "    login_btn.click()"
   ]
  },
  {
   "cell_type": "code",
   "execution_count": 45,
   "metadata": {},
   "outputs": [],
   "source": [
    "def goto(driver, url, link):\n",
    "    cnt = 0\n",
    "    link = 0\n",
    "    for i in range(len(url)):\n",
    "        if cnt == 40: \n",
    "            link = i\n",
    "            break\n",
    "        time.sleep(4)\n",
    "        driver.get(url[i])\n",
    "        bank_xpath = '''//*[@id=\"container\"]/div/div[2]/div[3]/table/tbody/tr[2]/td/b'''\n",
    "        try:\n",
    "            bank = driver.find_element_by_xpath(bank_xpath).text\n",
    "        except:\n",
    "            bank = \"None\"\n",
    "        goToCsv(\"airpod_bank.csv\", [[url[i], bank]], [\"URL\", \"BANK\"])\n",
    "    \n",
    "    return link"
   ]
  },
  {
   "cell_type": "code",
   "execution_count": 46,
   "metadata": {},
   "outputs": [],
   "source": [
    "def goToCsv(path, docs, colum):\n",
    "    junggo = pd.DataFrame(docs)\n",
    "    try:\n",
    "        junggo.columns = colum\n",
    "        print(\"*\", end = \"\")\n",
    "    except:\n",
    "        print(\"N\", end = \"\")\n",
    "        return\n",
    "    \n",
    "    if not os.path.exists(path):\n",
    "        junggo.to_csv(path, index = False, mode = \"w\", encoding = \"utf-8-sig\")\n",
    "    else:\n",
    "        junggo.to_csv(path, index = False, mode = \"a\", encoding = \"utf-8-sig\", header = False)    "
   ]
  },
  {
   "cell_type": "code",
   "execution_count": 47,
   "metadata": {},
   "outputs": [],
   "source": [
    "def getDriver():\n",
    "#     options = webdriver.ChromeOptions()\n",
    "#     options.add_argument(\"user-agent=Mozilla/5.0 (Macintosh; Intel Mac OS X 10_12_6) AppleWebKit/537.36 (KHTML, like Gecko) Chrome/61.0.3163.100 Safari/537.36\")\n",
    "\n",
    "    driver = webdriver.Chrome(executable_path=\"/Users/jeongxoo/Desktop/web crolling/chromedriver\")\n",
    "    driver.implicitly_wait(3)\n",
    "    return driver"
   ]
  },
  {
   "cell_type": "code",
   "execution_count": 48,
   "metadata": {},
   "outputs": [],
   "source": [
    "def main(url):\n",
    "    link = 0\n",
    "    while link != len(url) - 1:\n",
    "        driver = getDriver()\n",
    "\n",
    "        openTheCheatLogin(driver)\n",
    "\n",
    "        loginTheCheat(driver)\n",
    "        time.sleep(15)\n",
    "        link = goto(driver, url, link)\n",
    "        driver.quit()"
   ]
  },
  {
   "cell_type": "code",
   "execution_count": null,
   "metadata": {
    "scrolled": true
   },
   "outputs": [],
   "source": [
    "main(complete_url)"
   ]
  }
 ],
 "metadata": {
  "kernelspec": {
   "display_name": "Python 3 (ipykernel)",
   "language": "python",
   "name": "python3"
  },
  "language_info": {
   "codemirror_mode": {
    "name": "ipython",
    "version": 3
   },
   "file_extension": ".py",
   "mimetype": "text/x-python",
   "name": "python",
   "nbconvert_exporter": "python",
   "pygments_lexer": "ipython3",
   "version": "3.9.7"
  }
 },
 "nbformat": 4,
 "nbformat_minor": 4
}
